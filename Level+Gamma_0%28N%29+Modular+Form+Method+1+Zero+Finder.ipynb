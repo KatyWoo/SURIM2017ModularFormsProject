{
 "cells": [
  {
   "cell_type": "code",
   "execution_count": 6,
   "metadata": {
    "collapsed": false,
    "deletable": true,
    "editable": true
   },
   "outputs": [],
   "source": [
    "def findLeastt(N, k):\n",
    "    dimensionDifference = 0\n",
    "    level1Dimension = 0\n",
    "    t=(k/2).floor()\n",
    "    while (dimensionDifference >= level1Dimension):\n",
    "        modForm2t = ModularForms(Gamma0(N), 2*t)\n",
    "        modForm2tk = dimensionGammaModularForm(N, 2*t-k)\n",
    "        modFormLevel1 = ModularForms(1, 2*t)\n",
    "        dimensionDifference = modForm2t.dimension() - modForm2tk\n",
    "        level1Dimension = modFormLevel1.dimension()\n",
    "        t = t+1\n",
    "    return t\n",
    "    "
   ]
  },
  {
   "cell_type": "code",
   "execution_count": 7,
   "metadata": {
    "collapsed": false,
    "deletable": true,
    "editable": true,
    "scrolled": true
   },
   "outputs": [],
   "source": [
    "def dimensionGammaModularForm(level, k):\n",
    "    G = Gamma(level)\n",
    "    einfty = G.ncusps()\n",
    "    e3 = G.nu3()\n",
    "    e2 = G.nu2()\n",
    "    g = G.genus()\n",
    "    if (k%2 == 0):\n",
    "        return (g-1)*(k-1) + (k/4).floor()*e2 + (k/3).floor()*e3 + k/2*einfty\n",
    "    else: \n",
    "        eirreg = G.nirregcusps()\n",
    "        ereg = einfty-eirreg\n",
    "        return (g-1)*(k-1) + (k/3).floor()*e3 + k/2*ereg + (k-1)/2*eirreg\n",
    "    "
   ]
  },
  {
   "cell_type": "code",
   "execution_count": 92,
   "metadata": {
    "collapsed": false,
    "deletable": true,
    "editable": true
   },
   "outputs": [],
   "source": [
    "def findModFormg(f, level, k):\n",
    "    t = findLeastt(level, k)\n",
    "    basis = ModularForms(1, 2*t).basis()\n",
    "    \n",
    "    "
   ]
  },
  {
   "cell_type": "code",
   "execution_count": 99,
   "metadata": {
    "collapsed": true,
    "deletable": true,
    "editable": true
   },
   "outputs": [],
   "source": [
    "def isGammaModularForm(modForm, N, k):\n",
    "    g = Gamma(N).generators()\n",
    "    testValues = [I+1/5]\n",
    "    #for matrix in g:\n",
    "    if (true):\n",
    "        matrix= g[1]\n",
    "        print matrix\n",
    "        for v in testValues:\n",
    "            init = evaluateModForm(modForm, e^(2*pi*I*v),10)\n",
    "            trans = evaluateModForm(modForm, e^(2*pi*I*op(matrix,v)),10)\n",
    "            print 'init' \n",
    "            print init\n",
    "            print 'trans' \n",
    "            print trans\n",
    "            j_matrix = matrix[1][0]*v + matrix[1][1]\n",
    "            print 'gamma init' \n",
    "            print j_matrix^(k)*init\n",
    "            print 'trans/init'\n",
    "            print trans/init\n",
    "            \n",
    "        \n",
    "def op(matrix,z):\n",
    "    num = matrix[0][0]*z + matrix[0][1]\n",
    "    denom = matrix[1][0]*z + matrix[1][1]\n",
    "    return num/denom"
   ]
  },
  {
   "cell_type": "code",
   "execution_count": 100,
   "metadata": {
    "collapsed": false,
    "deletable": true,
    "editable": true
   },
   "outputs": [],
   "source": [
    "def evaluateModForm(modForm, q, precision):\n",
    "    value = 0\n",
    "    for i in range(precision):\n",
    "        value = value + modForm[i]*(q^i)\n",
    "    return N(value)"
   ]
  },
  {
   "cell_type": "code",
   "execution_count": 101,
   "metadata": {
    "collapsed": false,
    "deletable": true,
    "editable": true,
    "scrolled": false
   },
   "outputs": [
    {
     "name": "stdout",
     "output_type": "stream",
     "text": [
      "[-120   11]\n",
      "[ -11    1]\n",
      "init\n",
      "1.13236778127687 + 0.430652118943809*I\n",
      "trans\n",
      "-66734.4837011477 + 229120.418943473*I\n",
      "gamma init\n",
      "18116.1291058485 - 1292.52537141408*I\n",
      "trans/init\n",
      "15740.9080247331 + 196351.015301590*I\n"
     ]
    }
   ],
   "source": [
    "isGammaModularForm(eisenstein_series_qexp(4, normalization = 'constant'), 11, 4)"
   ]
  },
  {
   "cell_type": "code",
   "execution_count": null,
   "metadata": {
    "collapsed": true,
    "deletable": true,
    "editable": true
   },
   "outputs": [],
   "source": []
  }
 ],
 "metadata": {
  "kernelspec": {
   "display_name": "SageMath 7.6",
   "language": "",
   "name": "sagemath"
  },
  "language_info": {
   "codemirror_mode": {
    "name": "ipython",
    "version": 2
   },
   "file_extension": ".py",
   "mimetype": "text/x-python",
   "name": "python",
   "nbconvert_exporter": "python",
   "pygments_lexer": "ipython2",
   "version": "2.7.13"
  }
 },
 "nbformat": 4,
 "nbformat_minor": 2
}
